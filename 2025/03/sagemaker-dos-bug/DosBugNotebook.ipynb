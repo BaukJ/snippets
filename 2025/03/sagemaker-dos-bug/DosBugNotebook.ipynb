{
 "cells": [
  {
   "cell_type": "code",
   "execution_count": 1,
   "id": "58d2fbd8-bc3e-45e0-9168-c4bb6d3a2be5",
   "metadata": {},
   "outputs": [
    {
     "name": "stdout",
     "output_type": "stream",
     "text": [
      "/usr/bin/dos2unix\n"
     ]
    }
   ],
   "source": [
    "! if ! which dos2unix; then sudo apt update && sudo apt install -y dos2unix; fi"
   ]
  },
  {
   "cell_type": "code",
   "execution_count": 2,
   "id": "e2e1e47e-bcfc-49ed-a971-eb24ff84b4a8",
   "metadata": {},
   "outputs": [],
   "source": [
    "EXAMPLE_FILE = \"\"\"\n",
    "import os\n",
    "import sys\n",
    "\n",
    "name = \"\"\n",
    "print(f\"Hello {name}\")\n",
    "\"\"\"\n",
    "with open(\"example.py\", \"w\") as f:\n",
    "    f.write(EXAMPLE_FILE)"
   ]
  },
  {
   "cell_type": "code",
   "execution_count": 3,
   "id": "52e77048-79bb-45cc-9097-795ccdfaa8b2",
   "metadata": {},
   "outputs": [
    {
     "name": "stdout",
     "output_type": "stream",
     "text": [
      "dos2unix: converting file example.py to file example-unix.py in Unix format...\n",
      "unix2dos: converting file example.py to file example-dos.py in DOS format...\n",
      "example-dos.py:  ASCII text, with CRLF line terminators\n",
      "example-unix.py: ASCII text\n"
     ]
    }
   ],
   "source": [
    "!dos2unix -n example.py example-unix.py\n",
    "!unix2dos -n example.py example-dos.py\n",
    "!file example-*"
   ]
  },
  {
   "cell_type": "code",
   "execution_count": 4,
   "id": "3461d521-0f37-4874-85d0-aca684116c90",
   "metadata": {},
   "outputs": [
    {
     "name": "stdout",
     "output_type": "stream",
     "text": [
      "==> example-dos.py <==\n",
      "\n",
      "import os\n",
      "import sys\n",
      "\n",
      "name = \"\"\n",
      "print(f\"Hello {name}\")\n",
      "\n",
      "==> example-unix.py <==\n",
      "\n",
      "import os\n",
      "import sys\n",
      "\n",
      "name = \"\"\n",
      "print(f\"Hello {name}\")\n"
     ]
    }
   ],
   "source": [
    "!head example-*"
   ]
  },
  {
   "cell_type": "code",
   "execution_count": 5,
   "id": "bcc03167-bf7d-433b-9262-1a7488be4a10",
   "metadata": {},
   "outputs": [
    {
     "name": "stdin",
     "output_type": "stream",
     "text": [
      "Press enter to continue once files updated... \n"
     ]
    },
    {
     "data": {
      "text/plain": [
       "''"
      ]
     },
     "execution_count": 5,
     "metadata": {},
     "output_type": "execute_result"
    }
   ],
   "source": [
    "# Now open both files and add a name (e.g. Joe Bloggs) into the name variable\n",
    "input(\"Press enter to continue once files updated...\")"
   ]
  },
  {
   "cell_type": "code",
   "execution_count": 6,
   "id": "062fae7f-ac70-4a67-bcf9-08093d37193d",
   "metadata": {},
   "outputs": [
    {
     "name": "stdout",
     "output_type": "stream",
     "text": [
      "==> example-dos.py <==\n",
      "\n",
      "import os\n",
      "import sys\n",
      "\n",
      "nameKuba = \"\"\n",
      "print(f\"Hello {name}\")\n",
      "\n",
      "==> example-unix.py <==\n",
      "\n",
      "import os\n",
      "import sys\n",
      "\n",
      "name = \"Kuba\"\n",
      "print(f\"Hello {name}\")\n"
     ]
    }
   ],
   "source": [
    "!head example-*"
   ]
  }
 ],
 "metadata": {
  "kernelspec": {
   "display_name": "Python 3 (ipykernel)",
   "language": "python",
   "name": "python3"
  },
  "language_info": {
   "codemirror_mode": {
    "name": "ipython",
    "version": 3
   },
   "file_extension": ".py",
   "mimetype": "text/x-python",
   "name": "python",
   "nbconvert_exporter": "python",
   "pygments_lexer": "ipython3",
   "version": "3.11.10"
  }
 },
 "nbformat": 4,
 "nbformat_minor": 5
}
